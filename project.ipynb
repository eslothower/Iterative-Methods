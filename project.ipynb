{
 "cells": [
  {
   "attachments": {},
   "cell_type": "markdown",
   "metadata": {},
   "source": [
    "# The Power Method, QR Method, and Deflation"
   ]
  },
  {
   "cell_type": "markdown",
   "metadata": {},
   "source": [
    "By Eli Slothower, CMU SCS class of 2025"
   ]
  },
  {
   "cell_type": "markdown",
   "metadata": {},
   "source": [
    "The purpose of this document is to showcase the Power Method, the QR Method, and improvements upon these methods to calculate eigenvalues, eigenvectors, singular values, and singular vectors of a matrix. All theory and reasoning behind the following code can be found in the paper that accompanies this code."
   ]
  },
  {
   "cell_type": "code",
   "execution_count": 1932,
   "metadata": {},
   "outputs": [],
   "source": [
    "#Load in LinearAlgebra package\n",
    "using LinearAlgebra"
   ]
  },
  {
   "cell_type": "markdown",
   "metadata": {},
   "source": [
    "## The Power Method"
   ]
  },
  {
   "cell_type": "markdown",
   "metadata": {},
   "source": [
    "Below is our PowerMethod() function for a square, symmetric matrix A, which returns a tuple of, in this order, the dominant eigenvalue, the dominant eigenvector, and the dominant singular value. We use the below helper functions to extract these values from this tuple individually, as well as to compute the dominant left singular vector and the dominant right singular vector."
   ]
  },
  {
   "cell_type": "markdown",
   "metadata": {},
   "source": [
    "Note that if the inputted matrix does not meet the above preconditions, PowerMethod() will not run, which it would notify you of."
   ]
  },
  {
   "cell_type": "code",
   "execution_count": 1933,
   "metadata": {},
   "outputs": [
    {
     "data": {
      "text/plain": [
       "PowerMethod (generic function with 1 method)"
      ]
     },
     "execution_count": 1933,
     "metadata": {},
     "output_type": "execute_result"
    }
   ],
   "source": [
    "function PowerMethod(A, x) #takes in a matrix A that meets the preconditions, \n",
    "                           #and an initial approximation x\n",
    "    m, n = size(A) #gets dimensions of A\n",
    "    if (m == n) #checks that inputted matrix is square \n",
    "        for i in 1:200\n",
    "            x = ((A*x)/sqrt(dot((A*x), (A*x)))) #creates the next value \n",
    "                                                #of x (and divides by its \n",
    "                                                #magnitude for overflow \n",
    "                                                #purposes)\n",
    "        end\n",
    "        nextX = A*x #calculates one next x for eigenvalue computation\n",
    "        lambda1 = dot(x, nextX)/dot(x, x) #calculates lambda_1\n",
    "        eigenvector = x #finds corresponding eigenvector\n",
    "        singularValue = sqrt(abs(lambda1)) #calculates dominant singular \n",
    "                                           #value by taking square root \n",
    "                                           #of lambda_1\n",
    "        return(lambda1, eigenvector, singularValue) #returns tuple as \n",
    "                                                    #outlined above\n",
    "    else\n",
    "        print(\"A does not meet the preconditions\") #tells client if \n",
    "                                                   #preconditions are \n",
    "                                                   #not met\n",
    "        return\n",
    "    end\n",
    "        \n",
    "end\n"
   ]
  },
  {
   "cell_type": "code",
   "execution_count": 1934,
   "metadata": {},
   "outputs": [
    {
     "data": {
      "text/plain": [
       "getEvaluePM (generic function with 1 method)"
      ]
     },
     "execution_count": 1934,
     "metadata": {},
     "output_type": "execute_result"
    }
   ],
   "source": [
    "function getEvaluePM(A, x)\n",
    "    return PowerMethod(A, x)[1]\n",
    "end"
   ]
  },
  {
   "cell_type": "code",
   "execution_count": 1935,
   "metadata": {},
   "outputs": [
    {
     "data": {
      "text/plain": [
       "getEvectorPM (generic function with 1 method)"
      ]
     },
     "execution_count": 1935,
     "metadata": {},
     "output_type": "execute_result"
    }
   ],
   "source": [
    "function getEvectorPM(A, x)\n",
    "    return PowerMethod(A, x)[2]\n",
    "end"
   ]
  },
  {
   "cell_type": "code",
   "execution_count": 1936,
   "metadata": {},
   "outputs": [
    {
     "data": {
      "text/plain": [
       "getSingularValuePM (generic function with 1 method)"
      ]
     },
     "execution_count": 1936,
     "metadata": {},
     "output_type": "execute_result"
    }
   ],
   "source": [
    "function getSingularValuePM(A, x)\n",
    "    return PowerMethod(A, x)[3]\n",
    "end"
   ]
  },
  {
   "cell_type": "code",
   "execution_count": 1937,
   "metadata": {},
   "outputs": [
    {
     "data": {
      "text/plain": [
       "getSingularVectorAtAPM (generic function with 1 method)"
      ]
     },
     "execution_count": 1937,
     "metadata": {},
     "output_type": "execute_result"
    }
   ],
   "source": [
    "function getSingularVectorAtAPM(A, x)\n",
    "    PMresult = PowerMethod(transpose(A)*A, x) #calculates PowerMethod() \n",
    "                                              #on AtA\n",
    "    eigenvector = PMresult[2]\n",
    "    return eigenvector\n",
    "end"
   ]
  },
  {
   "cell_type": "code",
   "execution_count": 1938,
   "metadata": {},
   "outputs": [
    {
     "data": {
      "text/plain": [
       "getSingularVectorAAtPM (generic function with 1 method)"
      ]
     },
     "execution_count": 1938,
     "metadata": {},
     "output_type": "execute_result"
    }
   ],
   "source": [
    "function getSingularVectorAAtPM(A, x)\n",
    "    PMresult = PowerMethod(A*transpose(A), x) #calculates PowerMethod() \n",
    "                                              #on AAt\n",
    "    eigenvector = PMresult[2]\n",
    "    return eigenvector\n",
    "end"
   ]
  },
  {
   "attachments": {},
   "cell_type": "markdown",
   "metadata": {},
   "source": [
    "### Example PM.1"
   ]
  },
  {
   "cell_type": "code",
   "execution_count": 1939,
   "metadata": {},
   "outputs": [
    {
     "data": {
      "text/plain": [
       "2.0"
      ]
     },
     "execution_count": 1939,
     "metadata": {},
     "output_type": "execute_result"
    }
   ],
   "source": [
    "A = [2 0; 0 1]\n",
    "x = [1;1]\n",
    "result = getEvaluePM(A,x)"
   ]
  },
  {
   "cell_type": "code",
   "execution_count": 1940,
   "metadata": {},
   "outputs": [
    {
     "data": {
      "text/plain": [
       "2-element Vector{Float64}:\n",
       " 1.0\n",
       " 6.223015277861142e-61"
      ]
     },
     "execution_count": 1940,
     "metadata": {},
     "output_type": "execute_result"
    }
   ],
   "source": [
    "A = [2 0; 0 1]\n",
    "x = [1;1]\n",
    "result = getEvectorPM(A,x)"
   ]
  },
  {
   "cell_type": "code",
   "execution_count": 1941,
   "metadata": {},
   "outputs": [
    {
     "data": {
      "text/plain": [
       "1.4142135623730951"
      ]
     },
     "execution_count": 1941,
     "metadata": {},
     "output_type": "execute_result"
    }
   ],
   "source": [
    "A = [2 0; 0 1]\n",
    "x = [1;1]\n",
    "result = getSingularValuePM(A,x)"
   ]
  },
  {
   "cell_type": "code",
   "execution_count": 1942,
   "metadata": {},
   "outputs": [
    {
     "data": {
      "text/plain": [
       "2-element Vector{Float64}:\n",
       " 1.0\n",
       " 3.8725919148493183e-121"
      ]
     },
     "execution_count": 1942,
     "metadata": {},
     "output_type": "execute_result"
    }
   ],
   "source": [
    "A = [2 0; 0 1]\n",
    "x = [1;1]\n",
    "result = getSingularVectorAtAPM(A,x)"
   ]
  },
  {
   "cell_type": "code",
   "execution_count": 1943,
   "metadata": {},
   "outputs": [
    {
     "data": {
      "text/plain": [
       "2-element Vector{Float64}:\n",
       " 1.0\n",
       " 3.8725919148493183e-121"
      ]
     },
     "execution_count": 1943,
     "metadata": {},
     "output_type": "execute_result"
    }
   ],
   "source": [
    "A = [2 0; 0 1]\n",
    "x = [1;1]\n",
    "result = getSingularVectorAAtPM(A,x)"
   ]
  },
  {
   "attachments": {},
   "cell_type": "markdown",
   "metadata": {},
   "source": [
    "### Example PM.2"
   ]
  },
  {
   "cell_type": "code",
   "execution_count": 1944,
   "metadata": {},
   "outputs": [
    {
     "data": {
      "text/plain": [
       "17.034137096355504"
      ]
     },
     "execution_count": 1944,
     "metadata": {},
     "output_type": "execute_result"
    }
   ],
   "source": [
    "A = [6 5 6; 5 4 7; 6 7 5]\n",
    "x = [1;1;1]\n",
    "result = getEvaluePM(A,x)"
   ]
  },
  {
   "cell_type": "code",
   "execution_count": 1945,
   "metadata": {},
   "outputs": [
    {
     "data": {
      "text/plain": [
       "3-element Vector{Float64}:\n",
       " 0.5774416595564781\n",
       " 0.5470106434803808\n",
       " 0.6060862032152194"
      ]
     },
     "execution_count": 1945,
     "metadata": {},
     "output_type": "execute_result"
    }
   ],
   "source": [
    "A = [6 5 6; 5 4 7; 6 7 5]\n",
    "x = [1;1;1]\n",
    "result = getEvectorPM(A,x)"
   ]
  },
  {
   "cell_type": "code",
   "execution_count": 1946,
   "metadata": {},
   "outputs": [
    {
     "data": {
      "text/plain": [
       "4.127243280490684"
      ]
     },
     "execution_count": 1946,
     "metadata": {},
     "output_type": "execute_result"
    }
   ],
   "source": [
    "A = [6 5 6; 5 4 7; 6 7 5]\n",
    "x = [1;1;1]\n",
    "result = getSingularValuePM(A,x)"
   ]
  },
  {
   "cell_type": "code",
   "execution_count": 1947,
   "metadata": {},
   "outputs": [
    {
     "data": {
      "text/plain": [
       "3-element Vector{Float64}:\n",
       " 0.5774416595564782\n",
       " 0.5470106434803808\n",
       " 0.6060862032152194"
      ]
     },
     "execution_count": 1947,
     "metadata": {},
     "output_type": "execute_result"
    }
   ],
   "source": [
    "A = [6 5 6; 5 4 7; 6 7 5]\n",
    "x = [1;1;1]\n",
    "result = getSingularVectorAtAPM(A,x)"
   ]
  },
  {
   "cell_type": "code",
   "execution_count": 1948,
   "metadata": {},
   "outputs": [
    {
     "data": {
      "text/plain": [
       "3-element Vector{Float64}:\n",
       " 0.5774416595564782\n",
       " 0.5470106434803808\n",
       " 0.6060862032152194"
      ]
     },
     "execution_count": 1948,
     "metadata": {},
     "output_type": "execute_result"
    }
   ],
   "source": [
    "A = [6 5 6; 5 4 7; 6 7 5]\n",
    "x = [1;1;1]\n",
    "result = getSingularVectorAAtPM(A,x)"
   ]
  },
  {
   "attachments": {},
   "cell_type": "markdown",
   "metadata": {},
   "source": [
    "### Example PM.2.1"
   ]
  },
  {
   "cell_type": "code",
   "execution_count": 1949,
   "metadata": {},
   "outputs": [
    {
     "data": {
      "text/plain": [
       "17.034137096355504"
      ]
     },
     "execution_count": 1949,
     "metadata": {},
     "output_type": "execute_result"
    }
   ],
   "source": [
    "A = [6 5 6; 5 4 7; 6 7 5]\n",
    "x = [999;1200000;1456]\n",
    "result = getEvaluePM(A,x)"
   ]
  },
  {
   "cell_type": "code",
   "execution_count": 1950,
   "metadata": {},
   "outputs": [
    {
     "data": {
      "text/plain": [
       "3-element Vector{Float64}:\n",
       " 0.5774416595564781\n",
       " 0.5470106434803808\n",
       " 0.6060862032152194"
      ]
     },
     "execution_count": 1950,
     "metadata": {},
     "output_type": "execute_result"
    }
   ],
   "source": [
    "A = [6 5 6; 5 4 7; 6 7 5]\n",
    "x = [999;1200000;1456]\n",
    "result = getEvectorPM(A,x)"
   ]
  },
  {
   "cell_type": "code",
   "execution_count": 1951,
   "metadata": {},
   "outputs": [
    {
     "data": {
      "text/plain": [
       "4.127243280490684"
      ]
     },
     "execution_count": 1951,
     "metadata": {},
     "output_type": "execute_result"
    }
   ],
   "source": [
    "A = [6 5 6; 5 4 7; 6 7 5]\n",
    "x = [999;1200000;1456]\n",
    "result = getSingularValuePM(A,x)"
   ]
  },
  {
   "cell_type": "code",
   "execution_count": 1952,
   "metadata": {},
   "outputs": [
    {
     "data": {
      "text/plain": [
       "3-element Vector{Float64}:\n",
       " 0.5774416595564782\n",
       " 0.5470106434803808\n",
       " 0.6060862032152194"
      ]
     },
     "execution_count": 1952,
     "metadata": {},
     "output_type": "execute_result"
    }
   ],
   "source": [
    "A = [6 5 6; 5 4 7; 6 7 5]\n",
    "x = [999;1200000;1456]\n",
    "result = getSingularVectorAtAPM(A,x)"
   ]
  },
  {
   "cell_type": "code",
   "execution_count": 1953,
   "metadata": {},
   "outputs": [
    {
     "data": {
      "text/plain": [
       "3-element Vector{Float64}:\n",
       " 0.5774416595564782\n",
       " 0.5470106434803808\n",
       " 0.6060862032152194"
      ]
     },
     "execution_count": 1953,
     "metadata": {},
     "output_type": "execute_result"
    }
   ],
   "source": [
    "A = [6 5 6; 5 4 7; 6 7 5]\n",
    "x = [999;1200000;1456]\n",
    "result = getSingularVectorAAtPM(A,x)"
   ]
  },
  {
   "attachments": {},
   "cell_type": "markdown",
   "metadata": {},
   "source": [
    "### Example PM.3"
   ]
  },
  {
   "cell_type": "code",
   "execution_count": 1954,
   "metadata": {},
   "outputs": [
    {
     "data": {
      "text/plain": [
       "105077.92749234011"
      ]
     },
     "execution_count": 1954,
     "metadata": {},
     "output_type": "execute_result"
    }
   ],
   "source": [
    "A = [987 234 6587 12445 98661 89 29374; \n",
    "     234 600 1 45 73 999 555; \n",
    "     6587 1 5043 72 800 819 301; \n",
    "     12445 45 72 20 4444 19 20; \n",
    "     98661 73 800 4444 0 100 101; \n",
    "     89 999 819 19 100 4572 0; \n",
    "     29374 555 301 20 101 0 16;]\n",
    "x = [1;1;1;1;1;1;1]\n",
    "result = getEvaluePM(A,x)\n"
   ]
  },
  {
   "cell_type": "code",
   "execution_count": 1955,
   "metadata": {},
   "outputs": [
    {
     "data": {
      "text/plain": [
       "7-element Vector{Float64}:\n",
       " 0.7045593165908005\n",
       " 0.003167479342962275\n",
       " 0.05261982026017225\n",
       " 0.11212454652807066\n",
       " 0.6698905053676605\n",
       " 0.0017702795012152963\n",
       " 0.19871827794675967"
      ]
     },
     "execution_count": 1955,
     "metadata": {},
     "output_type": "execute_result"
    }
   ],
   "source": [
    "A = [987 234 6587 12445 98661 89 29374; \n",
    "     234 600 1 45 73 999 555; \n",
    "     6587 1 5043 72 800 819 301; \n",
    "     12445 45 72 20 4444 19 20; \n",
    "     98661 73 800 4444 0 100 101; \n",
    "     89 999 819 19 100 4572 0; \n",
    "     29374 555 301 20 101 0 16;]\n",
    "x = [1;1;1;1;1;1;1]\n",
    "result = getEvectorPM(A, x)"
   ]
  },
  {
   "cell_type": "code",
   "execution_count": 1956,
   "metadata": {},
   "outputs": [
    {
     "data": {
      "text/plain": [
       "324.1572573494848"
      ]
     },
     "execution_count": 1956,
     "metadata": {},
     "output_type": "execute_result"
    }
   ],
   "source": [
    "A = [987 234 6587 12445 98661 89 29374; \n",
    "     234 600 1 45 73 999 555; \n",
    "     6587 1 5043 72 800 819 301; \n",
    "     12445 45 72 20 4444 19 20; \n",
    "     98661 73 800 4444 0 100 101; \n",
    "     89 999 819 19 100 4572 0; \n",
    "     29374 555 301 20 101 0 16;]\n",
    "x = [1;1;1;1;1;1;1]\n",
    "result = getSingularValuePM(A, x)"
   ]
  },
  {
   "cell_type": "code",
   "execution_count": 1957,
   "metadata": {},
   "outputs": [
    {
     "data": {
      "text/plain": [
       "7-element Vector{Float64}:\n",
       " 0.7061387957133922\n",
       " 0.0031674363493632545\n",
       " 0.05253617071329216\n",
       " 0.1119992424967313\n",
       " 0.6683860178933628\n",
       " 0.0017710402165370632\n",
       " 0.19827022843472986"
      ]
     },
     "execution_count": 1957,
     "metadata": {},
     "output_type": "execute_result"
    }
   ],
   "source": [
    "A = [987 234 6587 12445 98661 89 29374; \n",
    "     234 600 1 45 73 999 555; \n",
    "     6587 1 5043 72 800 819 301; \n",
    "     12445 45 72 20 4444 19 20; \n",
    "     98661 73 800 4444 0 100 101; \n",
    "     89 999 819 19 100 4572 0; \n",
    "     29374 555 301 20 101 0 16;]\n",
    "x = [1;1;1;1;1;1;1]\n",
    "result = getSingularVectorAtAPM(A, x)"
   ]
  },
  {
   "cell_type": "code",
   "execution_count": 1958,
   "metadata": {},
   "outputs": [
    {
     "data": {
      "text/plain": [
       "7-element Vector{Float64}:\n",
       " 0.7061387957133922\n",
       " 0.0031674363493632545\n",
       " 0.05253617071329216\n",
       " 0.1119992424967313\n",
       " 0.6683860178933628\n",
       " 0.0017710402165370632\n",
       " 0.19827022843472986"
      ]
     },
     "execution_count": 1958,
     "metadata": {},
     "output_type": "execute_result"
    }
   ],
   "source": [
    "A = [987 234 6587 12445 98661 89 29374; \n",
    "     234 600 1 45 73 999 555; \n",
    "     6587 1 5043 72 800 819 301; \n",
    "     12445 45 72 20 4444 19 20; \n",
    "     98661 73 800 4444 0 100 101; \n",
    "     89 999 819 19 100 4572 0; \n",
    "     29374 555 301 20 101 0 16;]\n",
    "x = [1;1;1;1;1;1;1]\n",
    "result = getSingularVectorAAtPM(A, x)"
   ]
  },
  {
   "cell_type": "markdown",
   "metadata": {},
   "source": [
    "## The QR Method"
   ]
  },
  {
   "attachments": {},
   "cell_type": "markdown",
   "metadata": {},
   "source": [
    "Below is our QRMethod() function for a square matrix A where det(A) != 0, which returns a tuple of, in this order, a list of the eigenvalues, a matrix of the eigenvectors, and a list of the singular values. We use the below helper functions to extract these values from this tuple individually, as well as to compute the left singular vectors and the right singular vectors."
   ]
  },
  {
   "cell_type": "code",
   "execution_count": 1959,
   "metadata": {},
   "outputs": [
    {
     "data": {
      "text/plain": [
       "QRMethod (generic function with 1 method)"
      ]
     },
     "execution_count": 1959,
     "metadata": {},
     "output_type": "execute_result"
    }
   ],
   "source": [
    "function QRMethod(A)\n",
    "    m, n = size(A) #gets dimensions of A\n",
    "    if m == n && det(A) != 0 #checks that A is square and det(A) != 0\n",
    "        Q, R = qr(A) #finds QR decomposition of A\n",
    "        eigenvectors = Q \n",
    "        for i in 1:50\n",
    "            newA = R*Q #iteratively finds newA by swapping Q and R\n",
    "            Q, R = qr(newA) #finds QR decomposition of newA, following \n",
    "                            #the QR method \n",
    "            eigenvectors = eigenvectors*Q #calculates matrix of A's \n",
    "                                          #eigenvectors\n",
    "        end\n",
    "        eigenvalues = diag(R*Q,0) #takes the components on the diagonal \n",
    "                                  #of RQ, which are the eigenvalues of A\n",
    "\n",
    "        singularValues = []\n",
    "        for i in eachindex(eigenvalues)\n",
    "            append!(singularValues, sqrt(abs(eigenvalues[i]))) \n",
    "            #calculates vector of singular values based off of square \n",
    "            #roots of eigenvalues of A\n",
    "        end\n",
    "        \n",
    "        return (eigenvalues, eigenvectors*Q, singularValues)\n",
    "    else\n",
    "        print(\"A does not meet the preconditions\") #tells client if \n",
    "                                                   #preconditions are \n",
    "                                                   #not met\n",
    "        return\n",
    "    end\n",
    "end"
   ]
  },
  {
   "cell_type": "code",
   "execution_count": 1960,
   "metadata": {},
   "outputs": [
    {
     "data": {
      "text/plain": [
       "getEvaluesQR (generic function with 1 method)"
      ]
     },
     "execution_count": 1960,
     "metadata": {},
     "output_type": "execute_result"
    }
   ],
   "source": [
    "function getEvaluesQR(A)\n",
    "    return QRMethod(A)[1]\n",
    "end"
   ]
  },
  {
   "cell_type": "code",
   "execution_count": 1961,
   "metadata": {},
   "outputs": [
    {
     "data": {
      "text/plain": [
       "getEvectorsQR (generic function with 1 method)"
      ]
     },
     "execution_count": 1961,
     "metadata": {},
     "output_type": "execute_result"
    }
   ],
   "source": [
    "function getEvectorsQR(A)\n",
    "    return QRMethod(A)[2]\n",
    "end"
   ]
  },
  {
   "cell_type": "code",
   "execution_count": 1962,
   "metadata": {},
   "outputs": [
    {
     "data": {
      "text/plain": [
       "getSingularValuesQR (generic function with 1 method)"
      ]
     },
     "execution_count": 1962,
     "metadata": {},
     "output_type": "execute_result"
    }
   ],
   "source": [
    "function getSingularValuesQR(A)\n",
    "    return QRMethod(A)[3]\n",
    "end"
   ]
  },
  {
   "cell_type": "code",
   "execution_count": 1963,
   "metadata": {},
   "outputs": [
    {
     "data": {
      "text/plain": [
       "getLeftSingularVectorsQR (generic function with 1 method)"
      ]
     },
     "execution_count": 1963,
     "metadata": {},
     "output_type": "execute_result"
    }
   ],
   "source": [
    "function getLeftSingularVectorsQR(A)\n",
    "    QRAtA = QRMethod(transpose(A)*A) #calculates QRMethod() on AtA\n",
    "    eigenvectorMatrix = QRAtA[2]\n",
    "    return eigenvectorMatrix\n",
    "end"
   ]
  },
  {
   "cell_type": "code",
   "execution_count": 1964,
   "metadata": {},
   "outputs": [
    {
     "data": {
      "text/plain": [
       "getRightSingularVectorsQR (generic function with 1 method)"
      ]
     },
     "execution_count": 1964,
     "metadata": {},
     "output_type": "execute_result"
    }
   ],
   "source": [
    "function getRightSingularVectorsQR(A)\n",
    "    QRAAt = QRMethod(A*transpose(A)) #calculates QRMethod() on AAt\n",
    "    eigenvectorMatrix = QRAAt[2]\n",
    "    return eigenvectorMatrix\n",
    "end"
   ]
  },
  {
   "attachments": {},
   "cell_type": "markdown",
   "metadata": {},
   "source": [
    "### Example QR.1"
   ]
  },
  {
   "cell_type": "code",
   "execution_count": 1965,
   "metadata": {},
   "outputs": [
    {
     "data": {
      "text/plain": [
       "2-element Vector{Float64}:\n",
       " 2.0\n",
       " 1.0"
      ]
     },
     "execution_count": 1965,
     "metadata": {},
     "output_type": "execute_result"
    }
   ],
   "source": [
    "A = [2 0; 0 1]\n",
    "result = getEvaluesQR(A)"
   ]
  },
  {
   "cell_type": "code",
   "execution_count": 1966,
   "metadata": {},
   "outputs": [
    {
     "data": {
      "text/plain": [
       "2×2 Matrix{Float64}:\n",
       " 1.0  0.0\n",
       " 0.0  1.0"
      ]
     },
     "execution_count": 1966,
     "metadata": {},
     "output_type": "execute_result"
    }
   ],
   "source": [
    "A = [2 0; 0 1]\n",
    "result = getEvectorsQR(A)"
   ]
  },
  {
   "cell_type": "code",
   "execution_count": 1967,
   "metadata": {},
   "outputs": [
    {
     "data": {
      "text/plain": [
       "2-element Vector{Any}:\n",
       " 1.4142135623730951\n",
       " 1.0"
      ]
     },
     "execution_count": 1967,
     "metadata": {},
     "output_type": "execute_result"
    }
   ],
   "source": [
    "A = [2 0; 0 1]\n",
    "result = getSingularValuesQR(A)"
   ]
  },
  {
   "cell_type": "code",
   "execution_count": 1968,
   "metadata": {},
   "outputs": [
    {
     "data": {
      "text/plain": [
       "2×2 Matrix{Float64}:\n",
       " 1.0  0.0\n",
       " 0.0  1.0"
      ]
     },
     "execution_count": 1968,
     "metadata": {},
     "output_type": "execute_result"
    }
   ],
   "source": [
    "A = [2 0; 0 1]\n",
    "result = getLeftSingularVectorsQR(A)"
   ]
  },
  {
   "cell_type": "code",
   "execution_count": 1969,
   "metadata": {},
   "outputs": [
    {
     "data": {
      "text/plain": [
       "2×2 Matrix{Float64}:\n",
       " 1.0  0.0\n",
       " 0.0  1.0"
      ]
     },
     "execution_count": 1969,
     "metadata": {},
     "output_type": "execute_result"
    }
   ],
   "source": [
    "A = [2 0; 0 1]\n",
    "result = getRightSingularVectorsQR(A)"
   ]
  },
  {
   "attachments": {},
   "cell_type": "markdown",
   "metadata": {},
   "source": [
    "### Example QR.2"
   ]
  },
  {
   "cell_type": "code",
   "execution_count": 1970,
   "metadata": {},
   "outputs": [
    {
     "data": {
      "text/plain": [
       "3-element Vector{Float64}:\n",
       " 17.034137096355504\n",
       " -2.561302422819227\n",
       "  0.5271653264637243"
      ]
     },
     "execution_count": 1970,
     "metadata": {},
     "output_type": "execute_result"
    }
   ],
   "source": [
    "A = [6 5 6; 5 4 7; 6 7 5]\n",
    "result = getEvaluesQR(A)"
   ]
  },
  {
   "cell_type": "code",
   "execution_count": 1971,
   "metadata": {},
   "outputs": [
    {
     "data": {
      "text/plain": [
       "3×3 Matrix{Float64}:\n",
       " 0.577442   0.10056   -0.810215\n",
       " 0.547011   0.689054   0.475377\n",
       " 0.606086  -0.717699   0.342882"
      ]
     },
     "execution_count": 1971,
     "metadata": {},
     "output_type": "execute_result"
    }
   ],
   "source": [
    "A = [6 5 6; 5 4 7; 6 7 5]\n",
    "result = getEvectorsQR(A)"
   ]
  },
  {
   "cell_type": "code",
   "execution_count": 1972,
   "metadata": {},
   "outputs": [
    {
     "data": {
      "text/plain": [
       "3-element Vector{Any}:\n",
       " 4.127243280490684\n",
       " 1.6004069553770464\n",
       " 0.7260615169968205"
      ]
     },
     "execution_count": 1972,
     "metadata": {},
     "output_type": "execute_result"
    }
   ],
   "source": [
    "A = [6 5 6; 5 4 7; 6 7 5]\n",
    "result = getSingularValuesQR(A)"
   ]
  },
  {
   "cell_type": "code",
   "execution_count": 1973,
   "metadata": {},
   "outputs": [
    {
     "data": {
      "text/plain": [
       "3×3 Matrix{Float64}:\n",
       " 0.577442   0.10056   -0.810215\n",
       " 0.547011   0.689054   0.475377\n",
       " 0.606086  -0.717699   0.342882"
      ]
     },
     "execution_count": 1973,
     "metadata": {},
     "output_type": "execute_result"
    }
   ],
   "source": [
    "A = [6 5 6; 5 4 7; 6 7 5]\n",
    "result = getLeftSingularVectorsQR(A)"
   ]
  },
  {
   "cell_type": "code",
   "execution_count": 1974,
   "metadata": {},
   "outputs": [
    {
     "data": {
      "text/plain": [
       "3×3 Matrix{Float64}:\n",
       " 0.577442   0.10056   -0.810215\n",
       " 0.547011   0.689054   0.475377\n",
       " 0.606086  -0.717699   0.342882"
      ]
     },
     "execution_count": 1974,
     "metadata": {},
     "output_type": "execute_result"
    }
   ],
   "source": [
    "A = [6 5 6; 5 4 7; 6 7 5]\n",
    "x = [1;1;1]\n",
    "result = getRightSingularVectorsQR(A)"
   ]
  },
  {
   "attachments": {},
   "cell_type": "markdown",
   "metadata": {},
   "source": [
    "### Example QR.3"
   ]
  },
  {
   "cell_type": "code",
   "execution_count": 1975,
   "metadata": {},
   "outputs": [
    {
     "data": {
      "text/plain": [
       "7-element Vector{Float64}:\n",
       "  83154.66898108396\n",
       " -80972.65976933317\n",
       "   5664.178317222833\n",
       "   4090.3044401729617\n",
       "  -1897.9260490013883\n",
       "   1067.7078726978568\n",
       "    131.7262071566637"
      ]
     },
     "execution_count": 1975,
     "metadata": {},
     "output_type": "execute_result"
    }
   ],
   "source": [
    "A = [987 234 6587 12445 98661 89 29374; \n",
    "     234 600 1 45 73 999 555; \n",
    "     6587 1 5043 72 800 819 301; \n",
    "     12445 45 72 20 4444 19 20; \n",
    "     98661 73 800 4444 0 100 101; \n",
    "     89 999 819 19 100 4572 0; \n",
    "     29374 555 301 20 101 0 16;]\n",
    "result = getEvaluesQR(A)\n"
   ]
  },
  {
   "cell_type": "code",
   "execution_count": 1976,
   "metadata": {},
   "outputs": [
    {
     "data": {
      "text/plain": [
       "7×7 Matrix{Float64}:\n",
       " -0.211808     -0.976443    …   0.0317327  -0.0170728   0.0180072\n",
       "  0.00173457   -0.00265036      0.127985   -0.504825   -0.818175\n",
       "  0.0600075    -0.0238357      -0.0265957   0.015296   -0.0650124\n",
       "  0.107956     -0.0636803      -0.799551    0.435794   -0.388956\n",
       "  0.929261     -0.19642         0.25778     0.158064   -0.0533551\n",
       "  0.000674297  -0.00167234  …  -0.0184679   0.1339      0.198574\n",
       "  0.276318     -0.0578394      -0.525197   -0.715399    0.36397"
      ]
     },
     "execution_count": 1976,
     "metadata": {},
     "output_type": "execute_result"
    }
   ],
   "source": [
    "A = [987 234 6587 12445 98661 89 29374; \n",
    "     234 600 1 45 73 999 555; \n",
    "     6587 1 5043 72 800 819 301; \n",
    "     12445 45 72 20 4444 19 20; \n",
    "     98661 73 800 4444 0 100 101; \n",
    "     89 999 819 19 100 4572 0; \n",
    "     29374 555 301 20 101 0 16;]\n",
    "result = getEvectorsQR(A)"
   ]
  },
  {
   "cell_type": "code",
   "execution_count": 1977,
   "metadata": {},
   "outputs": [
    {
     "data": {
      "text/plain": [
       "7-element Vector{Any}:\n",
       " 288.3655128150451\n",
       " 284.5569534721181\n",
       "  75.26073556126616\n",
       "  63.95548795977529\n",
       "  43.565193090371906\n",
       "  32.67579949592445\n",
       "  11.477203803917734"
      ]
     },
     "execution_count": 1977,
     "metadata": {},
     "output_type": "execute_result"
    }
   ],
   "source": [
    "A = [987 234 6587 12445 98661 89 29374; \n",
    "     234 600 1 45 73 999 555; \n",
    "     6587 1 5043 72 800 819 301; \n",
    "     12445 45 72 20 4444 19 20; \n",
    "     98661 73 800 4444 0 100 101; \n",
    "     89 999 819 19 100 4572 0; \n",
    "     29374 555 301 20 101 0 16;]\n",
    "result = getSingularValuesQR(A)"
   ]
  },
  {
   "cell_type": "code",
   "execution_count": 1978,
   "metadata": {},
   "outputs": [
    {
     "data": {
      "text/plain": [
       "7×7 Matrix{Float64}:\n",
       " 0.780873    -0.623331      0.00760364  …   0.0317327  -0.0170728   0.0180072\n",
       " 0.00314495   0.000377441  -0.130939        0.127985   -0.504825   -0.818175\n",
       " 0.0480011    0.043185     -0.733339       -0.0265957   0.015296   -0.0650124\n",
       " 0.104992     0.0684566     0.0421271      -0.799551    0.435794   -0.388956\n",
       " 0.588594     0.745429      0.0483079       0.25778     0.158064   -0.0533551\n",
       " 0.00179785  -0.000138343  -0.663907    …  -0.0184679   0.1339      0.198574\n",
       " 0.174512     0.221907     -0.0113904      -0.525197   -0.715399    0.36397"
      ]
     },
     "execution_count": 1978,
     "metadata": {},
     "output_type": "execute_result"
    }
   ],
   "source": [
    "A = [987 234 6587 12445 98661 89 29374; \n",
    "     234 600 1 45 73 999 555; \n",
    "     6587 1 5043 72 800 819 301; \n",
    "     12445 45 72 20 4444 19 20; \n",
    "     98661 73 800 4444 0 100 101; \n",
    "     89 999 819 19 100 4572 0; \n",
    "     29374 555 301 20 101 0 16;]\n",
    "result = getLeftSingularVectorsQR(A)"
   ]
  },
  {
   "cell_type": "code",
   "execution_count": 1979,
   "metadata": {},
   "outputs": [
    {
     "data": {
      "text/plain": [
       "7×7 Matrix{Float64}:\n",
       " 0.780873    -0.623331      0.00760364  …   0.0317327  -0.0170728   0.0180072\n",
       " 0.00314495   0.000377441  -0.130939        0.127985   -0.504825   -0.818175\n",
       " 0.0480011    0.043185     -0.733339       -0.0265957   0.015296   -0.0650124\n",
       " 0.104992     0.0684566     0.0421271      -0.799551    0.435794   -0.388956\n",
       " 0.588594     0.745429      0.0483079       0.25778     0.158064   -0.0533551\n",
       " 0.00179785  -0.000138343  -0.663907    …  -0.0184679   0.1339      0.198574\n",
       " 0.174512     0.221907     -0.0113904      -0.525197   -0.715399    0.36397"
      ]
     },
     "execution_count": 1979,
     "metadata": {},
     "output_type": "execute_result"
    }
   ],
   "source": [
    "A = [987 234 6587 12445 98661 89 29374; \n",
    "     234 600 1 45 73 999 555; \n",
    "     6587 1 5043 72 800 819 301; \n",
    "     12445 45 72 20 4444 19 20; \n",
    "     98661 73 800 4444 0 100 101; \n",
    "     89 999 819 19 100 4572 0; \n",
    "     29374 555 301 20 101 0 16;]\n",
    "x = [1;1;1;1;1;1;1]\n",
    "result = getRightSingularVectorsQR(A)"
   ]
  },
  {
   "cell_type": "markdown",
   "metadata": {},
   "source": [
    "## Power Method Using Deflation"
   ]
  },
  {
   "attachments": {},
   "cell_type": "markdown",
   "metadata": {},
   "source": [
    "Below is our PowerMethodDeflation() function for a square, symmetric matrix A, which returns a tuple of, in this order, a vector of all eigenvalues, a 2D vector (a 2D list) of all eigenvectors, and a list of the singular values. We use the below helper functions to extract these values from this tuple individually, as well as to compute the  left singular vectors and the right singular vectors."
   ]
  },
  {
   "cell_type": "code",
   "execution_count": 1980,
   "metadata": {},
   "outputs": [
    {
     "data": {
      "text/plain": [
       "PowerMethodDeflation (generic function with 2 methods)"
      ]
     },
     "execution_count": 1980,
     "metadata": {},
     "output_type": "execute_result"
    }
   ],
   "source": [
    "function PowerMethodDeflation(A, x) #takes in same input \n",
    "                                    #as PowerMethod()\n",
    "    eigenvector = x #dummy vector to initialize variable\n",
    "    allEvalues = [] #dummy vector to initialize variable\n",
    "    allEvectors = [] #dummy vector to initialize variable\n",
    "    m,n = size(A) #gets dimensions of A\n",
    "    for i in 1:n\n",
    "        PMResults = PowerMethod(A, x) #runs power method on A\n",
    "        eigenvalue = PMResults[1] #gets dominant eigenvalue of A\n",
    "        eigenvector = PMResults[2] #gets dominant eigenvalue of A\n",
    "        append!(allEvalues, eigenvalue) #appends current dominant \n",
    "                                        #eigenvalue to list of\n",
    "                                        #all eigenvalues of A\n",
    "        push!(allEvectors, eigenvector) #appends current dominant \n",
    "                                          #eigenvector to list of all\n",
    "                                          #eigenvectors of A\n",
    "        A = (A - ((eigenvalue/((dot(eigenvector, eigenvector))^2))\n",
    "            * eigenvector*transpose(eigenvector)))\n",
    "        #calculates new A based off of deflation method by getting rid \n",
    "        #of the current dominant eigenvalue and eigenvector, so when\n",
    "        #the power method is called on this new A, the next dominant\n",
    "        #eigenvalue and eigenvector will be found\n",
    "    end\n",
    "\n",
    "    singularValues = []\n",
    "    for i in eachindex(allEvalues)\n",
    "        append!(singularValues, sqrt(abs(allEvalues[i]))) \n",
    "        #calculates vector of singular values based off of square \n",
    "        #roots of eigenvalues of A\n",
    "    end\n",
    "\n",
    "    return (allEvalues, allEvectors, singularValues) \n",
    "    #returns tuple as outlined above\n",
    "\n",
    "    #Note: an inputted matrix A that does not meet the preconditions will \n",
    "    #halt the program through the call to PowerMethod(), which already\n",
    "    #checks these preconditions. Because of this, we did not implement \n",
    "    #checking these preconditions here again, because that would be  \n",
    "    #redundant \n",
    "end"
   ]
  },
  {
   "cell_type": "code",
   "execution_count": 1981,
   "metadata": {},
   "outputs": [
    {
     "data": {
      "text/plain": [
       "getEvaluesPMD (generic function with 2 methods)"
      ]
     },
     "execution_count": 1981,
     "metadata": {},
     "output_type": "execute_result"
    }
   ],
   "source": [
    "function getEvaluesPMD(A, x)\n",
    "    return PowerMethodDeflation(A, x)[1]\n",
    "end"
   ]
  },
  {
   "cell_type": "code",
   "execution_count": 1982,
   "metadata": {},
   "outputs": [
    {
     "data": {
      "text/plain": [
       "getEvectorsPMD (generic function with 2 methods)"
      ]
     },
     "execution_count": 1982,
     "metadata": {},
     "output_type": "execute_result"
    }
   ],
   "source": [
    "function getEvectorsPMD(A, x)\n",
    "    return PowerMethodDeflation(A, x)[2]\n",
    "end"
   ]
  },
  {
   "cell_type": "code",
   "execution_count": 1983,
   "metadata": {},
   "outputs": [
    {
     "data": {
      "text/plain": [
       "getSingularValuesPMD (generic function with 2 methods)"
      ]
     },
     "execution_count": 1983,
     "metadata": {},
     "output_type": "execute_result"
    }
   ],
   "source": [
    "function getSingularValuesPMD(A, x)\n",
    "    return PowerMethodDeflation(A, x)[3]\n",
    "end"
   ]
  },
  {
   "cell_type": "code",
   "execution_count": 1984,
   "metadata": {},
   "outputs": [
    {
     "data": {
      "text/plain": [
       "getSingularVectorsAtAPMD (generic function with 2 methods)"
      ]
     },
     "execution_count": 1984,
     "metadata": {},
     "output_type": "execute_result"
    }
   ],
   "source": [
    "function getSingularVectorsAtAPMD(A, x)\n",
    "    PMDresult = PowerMethodDeflation(transpose(A)*A, x) \n",
    "    #calculates PowerMethod() on AtA\n",
    "    \n",
    "    eigenvector = PMDresult[2]\n",
    "    return eigenvector\n",
    "end"
   ]
  },
  {
   "cell_type": "code",
   "execution_count": 1985,
   "metadata": {},
   "outputs": [
    {
     "data": {
      "text/plain": [
       "getSingularVectorsAAtPMD (generic function with 2 methods)"
      ]
     },
     "execution_count": 1985,
     "metadata": {},
     "output_type": "execute_result"
    }
   ],
   "source": [
    "function getSingularVectorsAAtPMD(A, x)\n",
    "    PMDresult = PowerMethodDeflation(A*transpose(A), x) \n",
    "    #calculates PowerMethod() on AAt\n",
    "    \n",
    "    eigenvector = PMDresult[2]\n",
    "    return eigenvector\n",
    "end"
   ]
  },
  {
   "attachments": {},
   "cell_type": "markdown",
   "metadata": {},
   "source": [
    "### Example PMD.1"
   ]
  },
  {
   "cell_type": "code",
   "execution_count": 1986,
   "metadata": {},
   "outputs": [
    {
     "data": {
      "text/plain": [
       "2-element Vector{Any}:\n",
       " 2.0\n",
       " 1.0"
      ]
     },
     "execution_count": 1986,
     "metadata": {},
     "output_type": "execute_result"
    }
   ],
   "source": [
    "A = [2 0; 0 1]\n",
    "x = [1;1]\n",
    "result = getEvaluesPMD(A,x)"
   ]
  },
  {
   "cell_type": "code",
   "execution_count": 1987,
   "metadata": {},
   "outputs": [
    {
     "data": {
      "text/plain": [
       "2-element Vector{Any}:\n",
       " [1.0, 6.223015277861142e-61]\n",
       " [-1.2446030555722283e-60, 1.0]"
      ]
     },
     "execution_count": 1987,
     "metadata": {},
     "output_type": "execute_result"
    }
   ],
   "source": [
    "A = [2 0; 0 1]\n",
    "x = [1;1]\n",
    "result = getEvectorsPMD(A,x)"
   ]
  },
  {
   "cell_type": "code",
   "execution_count": 1988,
   "metadata": {},
   "outputs": [
    {
     "data": {
      "text/plain": [
       "2-element Vector{Any}:\n",
       " 1.4142135623730951\n",
       " 1.0"
      ]
     },
     "execution_count": 1988,
     "metadata": {},
     "output_type": "execute_result"
    }
   ],
   "source": [
    "A = [2 0; 0 1]\n",
    "x = [1;1]\n",
    "result = getSingularValuesPMD(A,x)"
   ]
  },
  {
   "cell_type": "code",
   "execution_count": 1989,
   "metadata": {},
   "outputs": [
    {
     "data": {
      "text/plain": [
       "2-element Vector{Any}:\n",
       " [1.0, 3.8725919148493183e-121]\n",
       " [-1.5490367659397273e-120, 1.0]"
      ]
     },
     "execution_count": 1989,
     "metadata": {},
     "output_type": "execute_result"
    }
   ],
   "source": [
    "A = [2 0; 0 1]\n",
    "x = [1;1]\n",
    "result = getSingularVectorsAtAPMD(A,x)"
   ]
  },
  {
   "cell_type": "code",
   "execution_count": 1990,
   "metadata": {},
   "outputs": [
    {
     "data": {
      "text/plain": [
       "2-element Vector{Any}:\n",
       " [1.0, 3.8725919148493183e-121]\n",
       " [-1.5490367659397273e-120, 1.0]"
      ]
     },
     "execution_count": 1990,
     "metadata": {},
     "output_type": "execute_result"
    }
   ],
   "source": [
    "A = [2 0; 0 1]\n",
    "x = [1;1]\n",
    "result = getSingularVectorsAAtPMD(A,x)"
   ]
  },
  {
   "attachments": {},
   "cell_type": "markdown",
   "metadata": {},
   "source": [
    "### Example PMD.2"
   ]
  },
  {
   "cell_type": "code",
   "execution_count": 1991,
   "metadata": {},
   "outputs": [
    {
     "data": {
      "text/plain": [
       "3-element Vector{Any}:\n",
       " 17.034137096355504\n",
       " -2.5613024228192276\n",
       "  0.5271653264637228"
      ]
     },
     "execution_count": 1991,
     "metadata": {},
     "output_type": "execute_result"
    }
   ],
   "source": [
    "A = [6 5 6; 5 4 7; 6 7 5]\n",
    "x = [1;1;1]\n",
    "result = getEvaluesPMD(A,x)"
   ]
  },
  {
   "cell_type": "code",
   "execution_count": 1992,
   "metadata": {},
   "outputs": [
    {
     "data": {
      "text/plain": [
       "3-element Vector{Any}:\n",
       " [0.5774416595564781, 0.5470106434803808, 0.6060862032152194]\n",
       " [0.10055966074712493, 0.6890544052397919, -0.7176989488985335]\n",
       " [-0.8102153321426852, 0.47537709509274567, 0.3428815145529151]"
      ]
     },
     "execution_count": 1992,
     "metadata": {},
     "output_type": "execute_result"
    }
   ],
   "source": [
    "A = [6 5 6; 5 4 7; 6 7 5]\n",
    "x = [1;1;1]\n",
    "result = getEvectorsPMD(A,x)"
   ]
  },
  {
   "cell_type": "code",
   "execution_count": 1993,
   "metadata": {},
   "outputs": [
    {
     "data": {
      "text/plain": [
       "3-element Vector{Any}:\n",
       " 4.127243280490684\n",
       " 1.6004069553770464\n",
       " 0.7260615169968195"
      ]
     },
     "execution_count": 1993,
     "metadata": {},
     "output_type": "execute_result"
    }
   ],
   "source": [
    "A = [6 5 6; 5 4 7; 6 7 5]\n",
    "x = [1;1;1]\n",
    "result = getSingularValuesPMD(A,x)"
   ]
  },
  {
   "cell_type": "code",
   "execution_count": 1994,
   "metadata": {},
   "outputs": [
    {
     "data": {
      "text/plain": [
       "3-element Vector{Any}:\n",
       " [0.5774416595564782, 0.5470106434803808, 0.6060862032152194]\n",
       " [0.10055966074712498, 0.6890544052397903, -0.717698948898535]\n",
       " [-0.8102153321425966, 0.4753770950928481, 0.3428815145529826]"
      ]
     },
     "execution_count": 1994,
     "metadata": {},
     "output_type": "execute_result"
    }
   ],
   "source": [
    "A = [6 5 6; 5 4 7; 6 7 5]\n",
    "x = [1;1;1]\n",
    "result = getSingularVectorsAtAPMD(A,x)"
   ]
  },
  {
   "cell_type": "code",
   "execution_count": 1995,
   "metadata": {},
   "outputs": [
    {
     "data": {
      "text/plain": [
       "3-element Vector{Any}:\n",
       " [0.5774416595564782, 0.5470106434803808, 0.6060862032152194]\n",
       " [0.10055966074712498, 0.6890544052397903, -0.717698948898535]\n",
       " [-0.8102153321425966, 0.4753770950928481, 0.3428815145529826]"
      ]
     },
     "execution_count": 1995,
     "metadata": {},
     "output_type": "execute_result"
    }
   ],
   "source": [
    "A = [6 5 6; 5 4 7; 6 7 5]\n",
    "x = [1;1;1]\n",
    "result = getSingularVectorsAAtPMD(A,x)"
   ]
  },
  {
   "attachments": {},
   "cell_type": "markdown",
   "metadata": {},
   "source": [
    "### Example PMD.3"
   ]
  },
  {
   "cell_type": "code",
   "execution_count": 1996,
   "metadata": {},
   "outputs": [
    {
     "data": {
      "text/plain": [
       "7-element Vector{Any}:\n",
       "  105077.92749234011\n",
       " -102898.07681220338\n",
       "    5664.178317222874\n",
       "    4090.304440172935\n",
       "   -1897.9260490013871\n",
       "    1067.70787269786\n",
       "     131.7262071566645"
      ]
     },
     "execution_count": 1996,
     "metadata": {},
     "output_type": "execute_result"
    }
   ],
   "source": [
    "A = [987 234 6587 12445 98661 89 29374; \n",
    "     234 600 1 45 73 999 555; \n",
    "     6587 1 5043 72 800 819 301; \n",
    "     12445 45 72 20 4444 19 20; \n",
    "     98661 73 800 4444 0 100 101; \n",
    "     89 999 819 19 100 4572 0; \n",
    "     29374 555 301 20 101 0 16;]\n",
    "x = [1;1;1;1;1;1;1]\n",
    "result = getEvaluesPMD(A,x)\n"
   ]
  },
  {
   "cell_type": "code",
   "execution_count": 1997,
   "metadata": {},
   "outputs": [
    {
     "data": {
      "text/plain": [
       "7-element Vector{Any}:\n",
       " [0.7045593165908005, 0.003167479342962275, 0.05261982026017225, 0.11212454652807066, 0.6698905053676605, 0.0017702795012152963, 0.19871827794675967]\n",
       " [-0.7052142342198308, 3.0234863635354026e-5, 0.03765983138129654, 0.05652844207719054, 0.6763768965920753, -0.0003346912991381668, 0.20142824284209992]\n",
       " [-0.007603642096408602, 0.13093863677172232, 0.7333394413234289, -0.04212712548499737, -0.048307921014386974, 0.6639069440513676, 0.011390414070041556]\n",
       " [0.004030465259957338, 0.2054437392950462, -0.6729608506380436, 0.04505471535825179, 0.03573612581646158, 0.7081823167680581, 0.008433682198244108]\n",
       " [-0.03173272150838021, -0.12798483516662526, 0.026595685049208624, 0.7995510868660561, -0.25778049897218774, 0.018467873486066943, 0.5251969129570998]\n",
       " [0.017072842650132758, 0.504824853693538, -0.015296005391544923, -0.4357944730953685, -0.15806402191177316, -0.13390024837948816, 0.7153992472995199]\n",
       " [-0.018007233034550697, 0.8181745897256592, 0.06501242500090056, 0.3889562511207561, 0.05335512556226336, -0.19857438300769817, -0.3639697028388841]"
      ]
     },
     "execution_count": 1997,
     "metadata": {},
     "output_type": "execute_result"
    }
   ],
   "source": [
    "A = [987 234 6587 12445 98661 89 29374; \n",
    "     234 600 1 45 73 999 555; \n",
    "     6587 1 5043 72 800 819 301; \n",
    "     12445 45 72 20 4444 19 20; \n",
    "     98661 73 800 4444 0 100 101; \n",
    "     89 999 819 19 100 4572 0; \n",
    "     29374 555 301 20 101 0 16;]\n",
    "x = [1;1;1;1;1;1;1]\n",
    "result = getEvectorsPMD(A, x)"
   ]
  },
  {
   "cell_type": "code",
   "execution_count": 1998,
   "metadata": {},
   "outputs": [
    {
     "data": {
      "text/plain": [
       "7-element Vector{Any}:\n",
       " 324.1572573494848\n",
       " 320.7773009615914\n",
       "  75.26073556126643\n",
       "  63.95548795977508\n",
       "  43.56519309037189\n",
       "  32.6757994959245\n",
       "  11.477203803917767"
      ]
     },
     "execution_count": 1998,
     "metadata": {},
     "output_type": "execute_result"
    }
   ],
   "source": [
    "A = [987 234 6587 12445 98661 89 29374; \n",
    "     234 600 1 45 73 999 555; \n",
    "     6587 1 5043 72 800 819 301; \n",
    "     12445 45 72 20 4444 19 20; \n",
    "     98661 73 800 4444 0 100 101; \n",
    "     89 999 819 19 100 4572 0; \n",
    "     29374 555 301 20 101 0 16;]\n",
    "x = [1;1;1;1;1;1;1]\n",
    "result = getSingularValuesPMD(A, x)"
   ]
  },
  {
   "cell_type": "code",
   "execution_count": 1999,
   "metadata": {},
   "outputs": [
    {
     "data": {
      "text/plain": [
       "7-element Vector{Any}:\n",
       " [0.7061387957133922, 0.0031674363493632545, 0.05253617071329216, 0.1119992424967313, 0.6683860178933628, 0.0017710402165370632, 0.19827022843472986]\n",
       " [-0.7068753014426122, 2.2792831075611973e-5, 0.037536497750205164, 0.05626544776689501, 0.6748083409699729, -0.00033885340616939214, 0.20096294820405255]\n",
       " [-0.007603642096409797, 0.13093863677172238, 0.7333394413234289, -0.04212712548499736, -0.04830792101438463, 0.6639069440513679, 0.011390414070042045]\n",
       " [0.004030465259959211, 0.20544373929504609, -0.6729608506380438, 0.04505471535825195, 0.035736125816458665, 0.708182316768058, 0.008433682198243576]\n",
       " [-0.03173272150838026, -0.12798483516662446, 0.026595685049221617, 0.7995510868660768, -0.25778049897201083, 0.018467873486067054, 0.5251969129571548]\n",
       " [0.01707284264996484, 0.5048248536935429, -0.015296005391517193, -0.4357944730953335, -0.15806402191136645, -0.1339002483794893, 0.7153992472996321]\n",
       " [-0.018007233028058577, 0.8181745897256248, 0.06501242500013753, 0.3889562511199688, 0.05335512555171472, -0.19857438300773328, -0.3639697028417869]"
      ]
     },
     "execution_count": 1999,
     "metadata": {},
     "output_type": "execute_result"
    }
   ],
   "source": [
    "A = [987 234 6587 12445 98661 89 29374; \n",
    "     234 600 1 45 73 999 555; \n",
    "     6587 1 5043 72 800 819 301; \n",
    "     12445 45 72 20 4444 19 20; \n",
    "     98661 73 800 4444 0 100 101; \n",
    "     89 999 819 19 100 4572 0; \n",
    "     29374 555 301 20 101 0 16;]\n",
    "x = [1;1;1;1;1;1;1]\n",
    "result = getSingularVectorsAtAPMD(A, x)"
   ]
  },
  {
   "cell_type": "code",
   "execution_count": 2000,
   "metadata": {},
   "outputs": [
    {
     "data": {
      "text/plain": [
       "7-element Vector{Any}:\n",
       " [0.7061387957133922, 0.0031674363493632545, 0.05253617071329216, 0.1119992424967313, 0.6683860178933628, 0.0017710402165370632, 0.19827022843472986]\n",
       " [-0.7068753014426122, 2.2792831075611973e-5, 0.037536497750205164, 0.05626544776689501, 0.6748083409699729, -0.00033885340616939214, 0.20096294820405255]\n",
       " [-0.007603642096409797, 0.13093863677172238, 0.7333394413234289, -0.04212712548499736, -0.04830792101438463, 0.6639069440513679, 0.011390414070042045]\n",
       " [0.004030465259959211, 0.20544373929504609, -0.6729608506380438, 0.04505471535825195, 0.035736125816458665, 0.708182316768058, 0.008433682198243576]\n",
       " [-0.03173272150838026, -0.12798483516662446, 0.026595685049221617, 0.7995510868660768, -0.25778049897201083, 0.018467873486067054, 0.5251969129571548]\n",
       " [0.01707284264996484, 0.5048248536935429, -0.015296005391517193, -0.4357944730953335, -0.15806402191136645, -0.1339002483794893, 0.7153992472996321]\n",
       " [-0.018007233028058577, 0.8181745897256248, 0.06501242500013753, 0.3889562511199688, 0.05335512555171472, -0.19857438300773328, -0.3639697028417869]"
      ]
     },
     "execution_count": 2000,
     "metadata": {},
     "output_type": "execute_result"
    }
   ],
   "source": [
    "A = [987 234 6587 12445 98661 89 29374; \n",
    "     234 600 1 45 73 999 555; \n",
    "     6587 1 5043 72 800 819 301; \n",
    "     12445 45 72 20 4444 19 20; \n",
    "     98661 73 800 4444 0 100 101; \n",
    "     89 999 819 19 100 4572 0; \n",
    "     29374 555 301 20 101 0 16;]\n",
    "x = [1;1;1;1;1;1;1]\n",
    "result = getSingularVectorsAAtPMD(A, x)"
   ]
  }
 ],
 "metadata": {
  "kernelspec": {
   "display_name": "Julia 1.8.0",
   "language": "julia",
   "name": "julia-1.8"
  },
  "language_info": {
   "file_extension": ".jl",
   "mimetype": "application/julia",
   "name": "julia",
   "version": "1.8.0"
  },
  "orig_nbformat": 4,
  "vscode": {
   "interpreter": {
    "hash": "aee8b7b246df8f9039afb4144a1f6fd8d2ca17a180786b69acc140d282b71a49"
   }
  }
 },
 "nbformat": 4,
 "nbformat_minor": 2
}
